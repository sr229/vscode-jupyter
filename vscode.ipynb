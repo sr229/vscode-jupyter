{
  "nbformat": 4,
  "nbformat_minor": 0,
  "metadata": {
    "colab": {
      "name": "Untitled0.ipynb",
      "provenance": [],
      "private_outputs": true,
      "toc_visible": true,
      "authorship_tag": "ABX9TyM4lXlhhGvzrCAHpQTiNkjq",
      "include_colab_link": true
    },
    "kernelspec": {
      "name": "python3",
      "display_name": "Python 3"
    },
    "accelerator": "GPU"
  },
  "cells": [
    {
      "cell_type": "markdown",
      "metadata": {
        "id": "view-in-github",
        "colab_type": "text"
      },
      "source": [
        "<a href=\"https://colab.research.google.com/github/sr229/vscode-jupyter/blob/master/vscode.ipynb\" target=\"_parent\"><img src=\"https://colab.research.google.com/assets/colab-badge.svg\" alt=\"Open In Colab\"/></a>"
      ]
    },
    {
      "cell_type": "markdown",
      "metadata": {
        "id": "Vnv1gLOcM3cO",
        "colab_type": "text"
      },
      "source": [
        "## Welcome to the code-server notebook!\n",
        "\n",
        "This code-server notebook will allow you to have the [Visual Studio Code](https://code.visualstudio.com) experience for your notebook. "
      ]
    },
    {
      "cell_type": "markdown",
      "metadata": {
        "id": "nDlbbMdESqt9",
        "colab_type": "text"
      },
      "source": [
        "## Sarting  code-server\n",
        "\n",
        "First run the code block below:"
      ]
    },
    {
      "cell_type": "code",
      "metadata": {
        "id": "NNcll6GqMvIx",
        "colab_type": "code",
        "colab": {}
      },
      "source": [
        "!curl -fsSL https://code-server.dev/install.sh | sh\n",
        "!wget https://bin.equinox.io/c/4VmDzA7iaHb/ngrok-stable-linux-amd64.zip\n",
        "!unzip ngrok-stable-linux-amd64.zip\n",
        "\n",
        "# Open ngrok tunnel\n",
        "get_ipython().system_raw('./ngrok http 6006 &')\n",
        "!curl -s http://localhost:4040/api/tunnels | python3 -c \\\n",
        "    \"import sys, json; print(json.load(sys.stdin)['tunnels'][0]['public_url'])\""
      ],
      "execution_count": null,
      "outputs": []
    },
    {
      "cell_type": "markdown",
      "metadata": {
        "id": "koyw4HtpONE7",
        "colab_type": "text"
      },
      "source": [
        "You should see the ngrok tunnel URL. Once you do, run the following code:"
      ]
    },
    {
      "cell_type": "code",
      "metadata": {
        "id": "bGA9nEN5OWGp",
        "colab_type": "code",
        "colab": {}
      },
      "source": [
        "# Change the password to be something else! You can enter any password you like.\n",
        "!PASSWORD=\"colaboratory\" code-server --host 0.0.0.0 --port 6006 --auth=password"
      ],
      "execution_count": null,
      "outputs": []
    },
    {
      "cell_type": "markdown",
      "metadata": {
        "id": "nRJcdLirOooz",
        "colab_type": "text"
      },
      "source": [
        "## FAQ"
      ]
    },
    {
      "cell_type": "markdown",
      "metadata": {
        "id": "_AYhanKVSbZb",
        "colab_type": "text"
      },
      "source": [
        "### Q: Why have a Visual Studio Code inside Colaboratory?\n",
        "\n",
        "It's quite known that Visual Studio Code is very robust and most of the time Jupyter doesn't have that good experience when coding with Python in regards to third party libraries you might require. \n",
        "\n",
        "\n",
        "You may also need linting and code analysis as well which VS Code has support of thanks to the community extensions. "
      ]
    },
    {
      "cell_type": "markdown",
      "metadata": {
        "id": "4Olm9xioSUlL",
        "colab_type": "text"
      },
      "source": [
        "### Q: How long would this run?\n",
        "\n",
        "According to Google, Notebooks are able to stay up for up to 12 hours. That's more than enough to get your code ready to transfer it to Jupyter after validating it works.\n",
        "\n",
        "Keep in mind to terminate the code cells above when you're no longer using the editor."
      ]
    },
    {
      "cell_type": "markdown",
      "metadata": {
        "id": "yUZdI8sZSK9z",
        "colab_type": "text"
      },
      "source": [
        "### Q: Where's the Google Drive integration?\n",
        "\n",
        "You will have to run this so you can access your files over in Google Colaboratory.\n"
      ]
    },
    {
      "cell_type": "code",
      "metadata": {
        "id": "3tj74dGuPe84",
        "colab_type": "code",
        "colab": {}
      },
      "source": [
        "from google.colab import drive\n",
        "drive.mount('/content/drive')"
      ],
      "execution_count": null,
      "outputs": []
    },
    {
      "cell_type": "markdown",
      "metadata": {
        "id": "8PpTixPeQMWR",
        "colab_type": "text"
      },
      "source": [
        "### Q: How can I open the camera?\n",
        "\n",
        "Check the Code Snippets section of Colaboratory to see how to get your camera working inside a Colaboratory runtime.\n",
        "\n",
        "**Keep in mind:** Colaboratory does not assure you don't have any kind of lag when you perform inference here that requires computer vision. Please use a locally hosted Jupyter or your own machine instead if you want instanteneous inferencing, lag is always inevitable when you're running your  AI/ML experiments over  the cloud.\n",
        "\n"
      ]
    },
    {
      "cell_type": "markdown",
      "metadata": {
        "id": "Z0QUfi3vSBm9",
        "colab_type": "text"
      },
      "source": [
        "## Credits\n",
        "\n",
        "This was based on the issue on code-server at [GitHub](https://github.com/cdr/code-server/issues/40#issuecomment-553304124).  Special thanks to [shamoji101](https://github.com/shamoji101) for the idea.\n",
        "\n",
        "This is also based on the code-server notebook I found over at the internet, I ported this to be in line with the current version of code-server."
      ]
    }
  ]
}