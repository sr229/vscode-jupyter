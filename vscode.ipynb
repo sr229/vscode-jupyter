{
  "nbformat": 4,
  "nbformat_minor": 0,
  "metadata": {
    "colab": {
      "name": "Untitled0.ipynb",
      "provenance": [],
      "private_outputs": true,
      "toc_visible": true,
      "authorship_tag": "ABX9TyOpdAMwWKEARaZ221CLIfqU",
      "include_colab_link": true
    },
    "kernelspec": {
      "name": "python3",
      "display_name": "Python 3"
    },
    "accelerator": "GPU"
  },
  "cells": [
    {
      "cell_type": "markdown",
      "metadata": {
        "id": "view-in-github",
        "colab_type": "text"
      },
      "source": [
        "<a href=\"https://colab.research.google.com/github/sr229/vscode-jupyter/blob/master/vscode.ipynb\" target=\"_parent\"><img src=\"https://colab.research.google.com/assets/colab-badge.svg\" alt=\"Open In Colab\"/></a>"
      ]
    },
    {
      "cell_type": "markdown",
      "metadata": {
        "id": "Vnv1gLOcM3cO"
      },
      "source": [
        "## Welcome to the code-server notebook!\n",
        "\n",
        "This code-server notebook will allow you to have the [Visual Studio Code](https://code.visualstudio.com) experience for your notebook. "
      ]
    },
    {
      "cell_type": "markdown",
      "metadata": {
        "id": "nDlbbMdESqt9"
      },
      "source": [
        "## Sarting  code-server\n",
        "\n",
        "First run the code block below:"
      ]
    },
    {
      "cell_type": "code",
      "metadata": {
        "id": "NNcll6GqMvIx"
      },
      "source": [
        "!curl -fsSL https://code-server.dev/install.sh | sh\n",
        "!wget -qO cloudflared.deb https://bin.equinox.io/c/VdrWdbjqyF/cloudflared-stable-linux-amd64.deb\n",
        "!sudo dpkg -i cloudflared.deb && rm -rf cloudflared.deb"
      ],
      "execution_count": null,
      "outputs": []
    },
    {
      "cell_type": "markdown",
      "metadata": {
        "id": "koyw4HtpONE7"
      },
      "source": [
        "After the code blcok above has ran, run this to get your tunnel URL."
      ]
    },
    {
      "cell_type": "code",
      "metadata": {
        "id": "bGA9nEN5OWGp"
      },
      "source": [
        "# Change the password to be something else! You can enter any password you like.\n",
        "!PASSWORD=\"colaboratory\" code-server --host 0.0.0.0 --port 6006 --auth=password & cloudflared tunnel --url http://localhost:6006"
      ],
      "execution_count": null,
      "outputs": []
    },
    {
      "cell_type": "markdown",
      "metadata": {
        "id": "nRJcdLirOooz"
      },
      "source": [
        "## FAQ"
      ]
    },
    {
      "cell_type": "markdown",
      "metadata": {
        "id": "_AYhanKVSbZb"
      },
      "source": [
        "### Q: Why have a Visual Studio Code inside Colaboratory?\n",
        "\n",
        "It's quite known that Visual Studio Code is very robust and most of the time Jupyter doesn't have that good experience when coding with Python in regards to third party libraries you might require. \n",
        "\n",
        "\n",
        "You may also need linting and code analysis as well which VS Code has support of thanks to the community extensions. "
      ]
    },
    {
      "cell_type": "markdown",
      "metadata": {
        "id": "4Olm9xioSUlL"
      },
      "source": [
        "### Q: How long would this run?\n",
        "\n",
        "According to Google, Notebooks are able to stay up for up to 12 hours. That's more than enough to get your code ready to transfer it to Jupyter after validating it works.\n",
        "\n",
        "Keep in mind to terminate the code cells above when you're no longer using the editor."
      ]
    },
    {
      "cell_type": "markdown",
      "metadata": {
        "id": "yUZdI8sZSK9z"
      },
      "source": [
        "### Q: Where's the Google Drive integration?\n",
        "\n",
        "You will have to run this so you can access your files over in Google Colaboratory.\n"
      ]
    },
    {
      "cell_type": "code",
      "metadata": {
        "id": "3tj74dGuPe84"
      },
      "source": [
        "from google.colab import drive\n",
        "drive.mount('/content/drive')"
      ],
      "execution_count": null,
      "outputs": []
    },
    {
      "cell_type": "markdown",
      "metadata": {
        "id": "8PpTixPeQMWR"
      },
      "source": [
        "### Q: How can I open the camera?\n",
        "\n",
        "Check the Code Snippets section of Colaboratory to see how to get your camera working inside a Colaboratory runtime.\n",
        "\n",
        "**Keep in mind:** Colaboratory does not assure you don't have any kind of lag when you perform inference here that requires computer vision. Please use a locally hosted Jupyter or your own machine instead if you want instanteneous inferencing, lag is always inevitable when you're running your  AI/ML experiments over  the cloud.\n",
        "\n"
      ]
    },
    {
      "cell_type": "markdown",
      "metadata": {
        "id": "Z0QUfi3vSBm9"
      },
      "source": [
        "## Credits\n",
        "\n",
        "This was based on the issue on code-server at [GitHub](https://github.com/cdr/code-server/issues/40#issuecomment-553304124).  Special thanks to [shamoji101](https://github.com/shamoji101) for the idea.\n",
        "\n",
        "This is also based on the code-server notebook I found over at the internet, I ported this to be in line with the current version of code-server."
      ]
    }
  ]
}